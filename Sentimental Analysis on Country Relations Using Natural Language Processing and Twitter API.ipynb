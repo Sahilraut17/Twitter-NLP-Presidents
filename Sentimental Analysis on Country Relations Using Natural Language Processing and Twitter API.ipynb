{
 "cells": [
  {
   "cell_type": "code",
   "execution_count": 11,
   "metadata": {},
   "outputs": [],
   "source": [
    "from tweepy.streaming import StreamListener\n",
    "from tweepy import OAuthHandler\n",
    "from tweepy import Stream\n",
    "import tweepy\n",
    "import pandas as pd"
   ]
  },
  {
   "cell_type": "code",
   "execution_count": 12,
   "metadata": {},
   "outputs": [],
   "source": [
    "# Generate token and key before running the code.\n",
    "access_token = \"1588410864-qa0YZtIdkLcq9cCQ0XB6BpXUKeShXZP4Tsm2GgH\"\n",
    "access_token_secret=\"ez14GR0dikHpL5DAPVrUTz1apJuGMVtTHRGBP9PrNXTVJ\"\n",
    "consumer_key =\"ayW3444JLNH4ECzJuEFr3fCWF\"\n",
    "consumer_secret =\"asOlRRcfbQwb7Q9EUgyx1D7Vq6zda92qqs0vbOwZuEhVTMmITH\""
   ]
  },
  {
   "cell_type": "code",
   "execution_count": 13,
   "metadata": {},
   "outputs": [],
   "source": [
    "#this is a basic lsterner that just prints received tweetrs\n",
    "class StdOutListener(StreamListener):\n",
    "    def on_data(self,data):\n",
    "        print(data)\n",
    "        return True\n",
    "    \n",
    "    def on_error(self,status):\n",
    "        print(status)"
   ]
  },
  {
   "cell_type": "code",
   "execution_count": 14,
   "metadata": {},
   "outputs": [],
   "source": [
    "if __name__ =='__main__':\n",
    "    \n",
    "    l=StdOutListener()\n",
    "    auth =OAuthHandler(consumer_key,consumer_secret)\n",
    "    auth.set_access_token(access_token , access_token_secret)\n",
    "    stream =Stream(auth,1)\n",
    "    api = tweepy.API(auth)"
   ]
  },
  {
   "cell_type": "code",
   "execution_count": 17,
   "metadata": {},
   "outputs": [],
   "source": [
    "#gives only 200 vlues maximum\n",
    "#tweets = api.user_timeline(screen_name='realDonaldTrump', count=200,tweet_mode=\"extended\")\n",
    "\n",
    "#datet =[]\n",
    "\n",
    "#for tweet in tweets:\n",
    "\n",
    "#    datet.append(tweet.created_at)\n",
    "#    #empty array\n",
    "#tmp =[]\n",
    "\n",
    "#tweets_for_csv = [tweet.full_text for tweet in tweets]\n",
    "#for j in tweets_for_csv:\n",
    "#    tmp.append(j)"
   ]
  },
  {
   "cell_type": "code",
   "execution_count": 24,
   "metadata": {},
   "outputs": [],
   "source": [
    "\n",
    "#for  ore than 200 tweets \n",
    "tweets=[]\n",
    "for s in tweepy.Cursor(api.user_timeline, id=\"narendramodi\" , tweet_mode=\"extended\" ).items(257):\n",
    "    tweets.append(s)\n",
    "    \n",
    "datet =[]\n",
    "\n",
    "for tweet in tweets:\n",
    "\n",
    "    datet.append(tweet.created_at)\n",
    "    #empty array\n",
    "tmp =[]\n",
    "\n",
    "tweets_for_csv = [tweet.full_text for tweet in tweets]\n",
    "for j in tweets_for_csv:\n",
    "    tmp.append(j)\n"
   ]
  },
  {
   "cell_type": "code",
   "execution_count": 25,
   "metadata": {},
   "outputs": [
    {
     "data": {
      "text/plain": [
       "257"
      ]
     },
     "execution_count": 25,
     "metadata": {},
     "output_type": "execute_result"
    }
   ],
   "source": [
    "len(tmp)"
   ]
  },
  {
   "cell_type": "code",
   "execution_count": null,
   "metadata": {},
   "outputs": [],
   "source": [
    "from country_list import countries"
   ]
  },
  {
   "cell_type": "code",
   "execution_count": null,
   "metadata": {},
   "outputs": [],
   "source": [
    "df=pd.read_csv('negative.csv',encoding='latin-1')\n",
    "negative_data=df.astype(str).values.tolist()"
   ]
  },
  {
   "cell_type": "code",
   "execution_count": null,
   "metadata": {},
   "outputs": [],
   "source": [
    "df=pd.read_csv('positive.csv',encoding='latin-1')\n",
    "positive_data=df.astype(str).values.tolist()"
   ]
  },
  {
   "cell_type": "code",
   "execution_count": null,
   "metadata": {},
   "outputs": [],
   "source": [
    "ref_countries ={}\n",
    "for country in countries:\n",
    "    for tweet in tmp:\n",
    "        #print(tweet)\n",
    "        #print(country['name'])\n",
    "        if country['name'] in tweet:\n",
    "            #print(country['name'])\n",
    "            if country['name'] not in ref_countries:\n",
    "                ref_countries[country['name']] = 0\n",
    "            ref_countries[country['name']] +=1\n",
    "ref_countries"
   ]
  },
  {
   "cell_type": "code",
   "execution_count": null,
   "metadata": {},
   "outputs": [],
   "source": [
    "positive_data"
   ]
  },
  {
   "cell_type": "code",
   "execution_count": null,
   "metadata": {},
   "outputs": [],
   "source": [
    "countries_negative_sentiment={}\n",
    "countries_positive_sentiment={}\n",
    "for negative in negative_data:\n",
    "    for i in negative:\n",
    "        #print(i)\n",
    "        for country in countries:\n",
    "            for tweet in tmp:\n",
    "                #print(tweet)\n",
    "                #print(country['name'])\n",
    "                if country['name'] in tweet:\n",
    "                    \n",
    "                    if i in tweet:\n",
    "                        print(i)\n",
    "                        print(country['name'])\n",
    "                        if country['name'] not in countries_negative_sentiment:\n",
    "                            countries_negative_sentiment[country['name']] = 0\n",
    "                        countries_negative_sentiment[country['name']] +=1\n",
    "                       \n",
    "print(\"negative sentiments used :\",countries_negative_sentiment)                    \n",
    "        \n",
    "for positive in positive_data:\n",
    "    for i in positive:\n",
    "        #print(i)\n",
    "        for country in countries:\n",
    "            for tweet in tmp:\n",
    "                #print(tweet)\n",
    "                #print(country['name'])\n",
    "                if country['name'] in tweet:\n",
    "                    \n",
    "                    if i in tweet:\n",
    "                        print(i)\n",
    "                        print(country['name'])\n",
    "                        if country['name'] not in countries_positive_sentiment:\n",
    "                            countries_positive_sentiment[country['name']] = 0\n",
    "                        countries_positive_sentiment[country['name']] +=1\n",
    "                       \n",
    "print(\"positive sentiments used :\",countries_positive_sentiment)                    \n",
    "        "
   ]
  },
  {
   "cell_type": "code",
   "execution_count": null,
   "metadata": {},
   "outputs": [],
   "source": [
    "import matplotlib.pylab as plt"
   ]
  },
  {
   "cell_type": "code",
   "execution_count": null,
   "metadata": {},
   "outputs": [],
   "source": [
    "plt.xlabel(\"Countries\")\n",
    "plt.ylabel(\"Positive sentiments\")\n",
    "plt.bar(countries_positive_sentiment.keys(), countries_positive_sentiment.values(), align=\"center\")\n"
   ]
  },
  {
   "cell_type": "code",
   "execution_count": null,
   "metadata": {},
   "outputs": [],
   "source": [
    "plt.xlabel(\"Countries\")\n",
    "plt.ylabel(\"Negative sentiments\")\n",
    "plt.bar(countries_negative_sentiment.keys(), countries_negative_sentiment.values(), align=\"center\")"
   ]
  },
  {
   "cell_type": "code",
   "execution_count": null,
   "metadata": {},
   "outputs": [],
   "source": []
  },
  {
   "cell_type": "code",
   "execution_count": null,
   "metadata": {},
   "outputs": [],
   "source": []
  }
 ],
 "metadata": {
  "kernelspec": {
   "display_name": "Python 3",
   "language": "python",
   "name": "python3"
  },
  "language_info": {
   "codemirror_mode": {
    "name": "ipython",
    "version": 3
   },
   "file_extension": ".py",
   "mimetype": "text/x-python",
   "name": "python",
   "nbconvert_exporter": "python",
   "pygments_lexer": "ipython3",
   "version": "3.8.8"
  }
 },
 "nbformat": 4,
 "nbformat_minor": 2
}
